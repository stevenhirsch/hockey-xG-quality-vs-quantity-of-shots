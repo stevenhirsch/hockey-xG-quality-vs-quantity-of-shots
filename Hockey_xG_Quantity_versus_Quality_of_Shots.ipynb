{
  "nbformat": 4,
  "nbformat_minor": 0,
  "metadata": {
    "kernelspec": {
      "display_name": "Python 3 (ipykernel)",
      "language": "python",
      "name": "python3"
    },
    "language_info": {
      "codemirror_mode": {
        "name": "ipython",
        "version": 3
      },
      "file_extension": ".py",
      "mimetype": "text/x-python",
      "name": "python",
      "nbconvert_exporter": "python",
      "pygments_lexer": "ipython3",
      "version": "3.9.7"
    },
    "colab": {
      "name": "Hockey xG - Quantity versus Quality of Shots.ipynb",
      "provenance": [],
      "collapsed_sections": [],
      "include_colab_link": true
    }
  },
  "cells": [
    {
      "cell_type": "markdown",
      "metadata": {
        "id": "view-in-github",
        "colab_type": "text"
      },
      "source": [
        "<a href=\"https://colab.research.google.com/github/stevenhirsch/hockey-xG-quality-vs-quantity-of-shots/blob/main/Hockey_xG_Quantity_versus_Quality_of_Shots.ipynb\" target=\"_parent\"><img src=\"https://colab.research.google.com/assets/colab-badge.svg\" alt=\"Open In Colab\"/></a>"
      ]
    },
    {
      "cell_type": "code",
      "metadata": {
        "id": "KkeDmh-9pkFI"
      },
      "source": [
        "import numpy as np\n",
        "np.random.seed(0)"
      ],
      "execution_count": 1,
      "outputs": []
    },
    {
      "cell_type": "code",
      "metadata": {
        "id": "GOx__z-bpkFK"
      },
      "source": [
        "potential_xg = np.linspace(1,7,1000)"
      ],
      "execution_count": 2,
      "outputs": []
    },
    {
      "cell_type": "code",
      "metadata": {
        "id": "TU72kQLTpkFK"
      },
      "source": [
        "def create_team_chances(xg, shots_a, shots_b):\n",
        "    team_a = xg/shots_a\n",
        "    team_b = xg/shots_b\n",
        "    return team_a, team_b"
      ],
      "execution_count": 3,
      "outputs": []
    },
    {
      "cell_type": "code",
      "metadata": {
        "id": "ZdBj2IV5pkFK"
      },
      "source": [
        "def sim_game(chances_a, chances_b, shots_a, shots_b):\n",
        "    goals_a = 0\n",
        "    shots_a = shots_a\n",
        "    goals_b = 0\n",
        "    shots_b = shots_b\n",
        "    for shot in range(shots_a):\n",
        "        event = np.random.rand()\n",
        "        if chances_a > event:\n",
        "            goals_a += 1\n",
        "    \n",
        "    for shot in range(shots_b):\n",
        "        event = np.random.rand()\n",
        "        if chances_b > event:\n",
        "            goals_b += 1\n",
        "    return goals_a, goals_b"
      ],
      "execution_count": 4,
      "outputs": []
    },
    {
      "cell_type": "code",
      "metadata": {
        "id": "CtMkz_lbpkFL"
      },
      "source": [
        "def get_result(goals_a, goals_b):\n",
        "    win_a = 0\n",
        "    win_b = 0\n",
        "    if goals_a == goals_b:\n",
        "        tiebreak = np.random.rand()\n",
        "        if tiebreak >= 0.5:\n",
        "            win_a += 2\n",
        "            win_b += 1\n",
        "        else:\n",
        "            win_b += 2\n",
        "            win_a += 1\n",
        "    if goals_a > goals_b:\n",
        "        win_a +=2\n",
        "    if goals_b > goals_a:\n",
        "        win_b += 2\n",
        "    \n",
        "    return win_a, win_b"
      ],
      "execution_count": 5,
      "outputs": []
    },
    {
      "cell_type": "code",
      "metadata": {
        "id": "qo7skWqXpkFL"
      },
      "source": [
        "def sim_xPTS(xg, shots_a, shots_b, num_sims, ppw = 2.0):\n",
        "    pts_a = 0\n",
        "    pts_b = 0\n",
        "    \n",
        "    chances_a, chances_b = create_team_chances(2, shots_a, shots_b)\n",
        "\n",
        "    for game in range(num_sims):\n",
        "        goals_a, goals_b = sim_game(chances_a, chances_b, shots_a=shots_a, shots_b= shots_b)\n",
        "        temp_pts_a, temp_pts_b = get_result(goals_a, goals_b)\n",
        "        pts_a += temp_pts_a\n",
        "        pts_b += temp_pts_b\n",
        "    \n",
        "    xpts_a = pts_a / num_sims\n",
        "    xpts_b = pts_b / num_sims\n",
        "    \n",
        "    return xpts_a, xpts_b"
      ],
      "execution_count": 6,
      "outputs": []
    },
    {
      "cell_type": "code",
      "metadata": {
        "colab": {
          "base_uri": "https://localhost:8080/"
        },
        "id": "VdIfV0QXpkFL",
        "outputId": "ac556c53-5970-45fe-d3b8-81de02bd75a7"
      },
      "source": [
        "%%time\n",
        "xPTS_a = np.array([])\n",
        "xPTS_b = np.array([])\n",
        "NUM_SIMS = 10**5\n",
        "for i in potential_xg:\n",
        "    xg_result = sim_xPTS(xg = i, shots_a = 20, shots_b =  30, num_sims = NUM_SIMS)\n",
        "    xPTS_a = np.append(xPTS_a, xg_result[0])\n",
        "    xPTS_b = np.append(xPTS_b, xg_result[1])\n",
        "\n",
        "# Output for 10**5 sims on 2021 Macbook Pro (M1 Pro, 10 core CPU)\n",
        "#CPU times: user 17min 24s, sys: 4.72 s, total: 17min 29s\n",
        "#Wall time: 17min 30s\n",
        "\n",
        "# Output for 10**5 sims on Google Colab\n",
        "#CPU times: user 35min 14s, sys: 3.53 s, total: 35min 18s\n",
        "#Wall time: 35min 21s"
      ],
      "execution_count": 7,
      "outputs": [
        {
          "output_type": "stream",
          "name": "stdout",
          "text": [
            "CPU times: user 36min 15s, sys: 4.5 s, total: 36min 20s\n",
            "Wall time: 36min 26s\n"
          ]
        }
      ]
    },
    {
      "cell_type": "code",
      "metadata": {
        "id": "h6efAo73pkFM"
      },
      "source": [
        "mean_xPTS_a = np.mean(xPTS_a)\n",
        "sd_xPTS_a = np.std(xPTS_a)\n",
        "mean_xPTS_b = np.mean(xPTS_b)\n",
        "sd_xPTS_b = np.std(xPTS_b)"
      ],
      "execution_count": 8,
      "outputs": []
    },
    {
      "cell_type": "code",
      "metadata": {
        "colab": {
          "base_uri": "https://localhost:8080/"
        },
        "id": "G6Rr6Nx3pkFM",
        "outputId": "1c4d7a9f-a864-43f8-dd28-774bc38937a6"
      },
      "source": [
        "mean_xPTS_a, sd_xPTS_a"
      ],
      "execution_count": 9,
      "outputs": [
        {
          "output_type": "execute_result",
          "data": {
            "text/plain": [
              "(1.10966012, 0.002939435691693221)"
            ]
          },
          "metadata": {},
          "execution_count": 9
        }
      ]
    },
    {
      "cell_type": "code",
      "metadata": {
        "colab": {
          "base_uri": "https://localhost:8080/"
        },
        "id": "OReBm4TdpkFN",
        "outputId": "3847fc14-a440-4abd-fbac-bcaa67e2e268"
      },
      "source": [
        "mean_xPTS_b, sd_xPTS_b"
      ],
      "execution_count": 10,
      "outputs": [
        {
          "output_type": "execute_result",
          "data": {
            "text/plain": [
              "(1.10343595, 0.0029241865018326046)"
            ]
          },
          "metadata": {},
          "execution_count": 10
        }
      ]
    },
    {
      "cell_type": "code",
      "metadata": {
        "colab": {
          "base_uri": "https://localhost:8080/"
        },
        "id": "StZSrhuvpkFN",
        "outputId": "98513e02-f043-4a1f-b717-d39c60b6ec88"
      },
      "source": [
        "(mean_xPTS_b - mean_xPTS_a) / np.sqrt((sd_xPTS_a**2 + sd_xPTS_b**2)/2)"
      ],
      "execution_count": 11,
      "outputs": [
        {
          "output_type": "execute_result",
          "data": {
            "text/plain": [
              "-2.1229706644034927"
            ]
          },
          "metadata": {},
          "execution_count": 11
        }
      ]
    },
    {
      "cell_type": "code",
      "metadata": {
        "id": "y1lJ02lCpkFN"
      },
      "source": [
        ""
      ],
      "execution_count": 11,
      "outputs": []
    }
  ]
}